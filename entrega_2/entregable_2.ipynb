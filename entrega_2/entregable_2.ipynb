{
 "cells": [
  {
   "cell_type": "code",
   "execution_count": 2,
   "metadata": {},
   "outputs": [],
   "source": [
    "import requests\n",
    "import pandas as pd\n",
    "import redshift_connector\n",
    "from dotenv import dotenv_values\n",
    "\n",
    "env_vars = dotenv_values('.env')"
   ]
  },
  {
   "cell_type": "code",
   "execution_count": 3,
   "metadata": {},
   "outputs": [],
   "source": [
    "function = 'TIME_SERIES_WEEKLY'\n",
    "# Big Five Tech: Google, Amazon, Meta, Apple, and Microsoft (GAMAM)\n",
    "symbols = ['GOOG', 'AMZN', 'METV', 'AAPL', 'MSFT']\n",
    "api_key = 'WNHSBPLUX5B8HNMZ'\n",
    "\n",
    "df = pd.DataFrame()\n",
    "\n",
    "for symbol in symbols:\n",
    "    url = f'https://www.alphavantage.co/query?function={function}&symbol={symbol}&apikey={api_key}'\n",
    "    r = requests.get(url)\n",
    "    data = r.json()\n",
    "\n",
    "    symbol_df = pd.DataFrame(data['Weekly Time Series'])\n",
    "    symbol_df = symbol_df.T\n",
    "    symbol_df.reset_index(inplace=True)\n",
    "    symbol_df.rename(columns={'index':'week_from', '1. open':'open', '2. high':'high', '3. low': 'low', \n",
    "                       '4. close':'close', '5. volume':'volume'}, inplace=True)\n",
    "    \n",
    "    symbol_df['symbol'] = data['Meta Data']['2. Symbol']\n",
    "\n",
    "    df = pd.concat([df, symbol_df])"
   ]
  },
  {
   "cell_type": "code",
   "execution_count": 4,
   "metadata": {},
   "outputs": [
    {
     "data": {
      "text/html": [
       "<div>\n",
       "<style scoped>\n",
       "    .dataframe tbody tr th:only-of-type {\n",
       "        vertical-align: middle;\n",
       "    }\n",
       "\n",
       "    .dataframe tbody tr th {\n",
       "        vertical-align: top;\n",
       "    }\n",
       "\n",
       "    .dataframe thead th {\n",
       "        text-align: right;\n",
       "    }\n",
       "</style>\n",
       "<table border=\"1\" class=\"dataframe\">\n",
       "  <thead>\n",
       "    <tr style=\"text-align: right;\">\n",
       "      <th></th>\n",
       "      <th>week_from</th>\n",
       "      <th>open</th>\n",
       "      <th>high</th>\n",
       "      <th>low</th>\n",
       "      <th>close</th>\n",
       "      <th>volume</th>\n",
       "      <th>symbol</th>\n",
       "    </tr>\n",
       "  </thead>\n",
       "  <tbody>\n",
       "    <tr>\n",
       "      <th>0</th>\n",
       "      <td>2023-06-27</td>\n",
       "      <td>121.4656</td>\n",
       "      <td>122.7200</td>\n",
       "      <td>116.9100</td>\n",
       "      <td>119.0100</td>\n",
       "      <td>50095440</td>\n",
       "      <td>GOOG</td>\n",
       "    </tr>\n",
       "    <tr>\n",
       "      <th>1</th>\n",
       "      <td>2023-06-23</td>\n",
       "      <td>123.5350</td>\n",
       "      <td>125.1750</td>\n",
       "      <td>119.6000</td>\n",
       "      <td>123.0200</td>\n",
       "      <td>95665041</td>\n",
       "      <td>GOOG</td>\n",
       "    </tr>\n",
       "    <tr>\n",
       "      <th>2</th>\n",
       "      <td>2023-06-16</td>\n",
       "      <td>123.3950</td>\n",
       "      <td>126.7000</td>\n",
       "      <td>122.1600</td>\n",
       "      <td>124.0600</td>\n",
       "      <td>147453173</td>\n",
       "      <td>GOOG</td>\n",
       "    </tr>\n",
       "    <tr>\n",
       "      <th>3</th>\n",
       "      <td>2023-06-09</td>\n",
       "      <td>124.6100</td>\n",
       "      <td>129.5500</td>\n",
       "      <td>122.0100</td>\n",
       "      <td>122.8700</td>\n",
       "      <td>121430664</td>\n",
       "      <td>GOOG</td>\n",
       "    </tr>\n",
       "    <tr>\n",
       "      <th>4</th>\n",
       "      <td>2023-06-02</td>\n",
       "      <td>126.2900</td>\n",
       "      <td>126.7450</td>\n",
       "      <td>122.8900</td>\n",
       "      <td>125.2300</td>\n",
       "      <td>113094630</td>\n",
       "      <td>GOOG</td>\n",
       "    </tr>\n",
       "  </tbody>\n",
       "</table>\n",
       "</div>"
      ],
      "text/plain": [
       "    week_from      open      high       low     close     volume symbol\n",
       "0  2023-06-27  121.4656  122.7200  116.9100  119.0100   50095440   GOOG\n",
       "1  2023-06-23  123.5350  125.1750  119.6000  123.0200   95665041   GOOG\n",
       "2  2023-06-16  123.3950  126.7000  122.1600  124.0600  147453173   GOOG\n",
       "3  2023-06-09  124.6100  129.5500  122.0100  122.8700  121430664   GOOG\n",
       "4  2023-06-02  126.2900  126.7450  122.8900  125.2300  113094630   GOOG"
      ]
     },
     "execution_count": 4,
     "metadata": {},
     "output_type": "execute_result"
    }
   ],
   "source": [
    "df.head()"
   ]
  }
 ],
 "metadata": {
  "kernelspec": {
   "display_name": "venv",
   "language": "python",
   "name": "python3"
  },
  "language_info": {
   "codemirror_mode": {
    "name": "ipython",
    "version": 3
   },
   "file_extension": ".py",
   "mimetype": "text/x-python",
   "name": "python",
   "nbconvert_exporter": "python",
   "pygments_lexer": "ipython3",
   "version": "3.10.11"
  },
  "orig_nbformat": 4
 },
 "nbformat": 4,
 "nbformat_minor": 2
}
